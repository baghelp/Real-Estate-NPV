{
 "cells": [
  {
   "cell_type": "markdown",
   "id": "2c47e904",
   "metadata": {},
   "source": [
    "### An analysis of Arizona investment property ($445,000), February 2024 \n",
    "by Matthew Wang \n",
    "\n",
    "## Our Model \n",
    "\n",
    "We are using the Net Present Value (NPV) model for evaluating whether the investment is worthwhile or not. NVP looks at the investment's cash flows and discounts them. The NPV is great for evaluating an investment property as it takes into consideration time value of money, future cash flows, and opportunity cost of other investments (discount rate). The limitations of this model, like all models, is that it makes assumptions of the numbers, such as risk free rate and home appreciation. It does not also model other external risks associated with owning an investment property. This model just looks at the cash flows. \n",
    "\n",
    "**If NVP is positive, the investment is worth taking. Otherwise, the investment is not worthwhile**\n",
    "\n",
    "[Read about NPV here](https://www.investopedia.com/terms/n/npv.asp#:~:text=Net%20present%20value%20(NPV)%20is,a%20projected%20investment%20or%20project.)\n",
    "\n",
    "\n",
    "## Scenario 1: Expected scenario with baseline assumptions\n",
    "The model assumes some values. We can change our assumptions to model different economic situations. I'm assuming this is a 10 year investment before we sell. I'm using the current AZ 30 year mortgage interest rates (6.9%) to calculate our total estimated monthly payment. I also added an additional $300 / month to the monthly payment for maintenance costs. I did a conservative assumption of annual appreciation, 3%, based off [this article](https://www.movoto.com/guide/az/9-places-in-arizona-with-the-best-home-appreciation-rates/). I assume rental income grows 2% per year. We assume 6% realtor / sales fees of the sale price. \n",
    "\n",
    "**The benchmark (discount rate) is set to 5%, which is the current risk free rate.** That is, the returns you'd get if you put the money in a HYSA.\n",
    "\n",
    "\n",
    "\n",
    "| index                   |  value |\n",
    "| :----------------      | ------: |\n",
    "| Home price              |   \\$445000 |  \n",
    "| Percentage down payment |   20\\% |\n",
    "| Mortgage Interest Rate       |  6.9\\% |\n",
    "| Mortgage Length           |  30 years  |\n",
    "| Additional Monthly Cost (HOA, Taxes, Insurance) | \\$330 |\n",
    "| Monthly Rental Income   |  \\$2300 |\n",
    "| Anual Home Appreciation        |  3\\% |\n",
    "| Anual Rental Income Appreciation |  2\\% |\n",
    "| Investment Duration              |  10 years |\n",
    "| Discount rate (min required return)    | 5\\% |\n",
    "| Sales Fee          |  6\\% |\n",
    "\n",
    "\n",
    "\n",
    "\n",
    "\n"
   ]
  },
  {
   "cell_type": "code",
   "execution_count": 1,
   "id": "6447083d",
   "metadata": {},
   "outputs": [],
   "source": [
    "import npv as net_present_value\n",
    "parameters = {\n",
    "    'home_price': 445000, \n",
    "    'percent_down': 0.2, \n",
    "    'mortgage_interest': 0.069, \n",
    "    'mortgage_length': 30, \n",
    "    'other_monthly_cost': 430,\n",
    "    'monthly_rental_income': 2300, \n",
    "    'annual_rental_income_appreciation': 0.02, \n",
    "    'annual_home_appreciation': .03, \n",
    "    'investment_duration': 10, \n",
    "    'discount_rate': .05,\n",
    "    'selling_fee': .06\n",
    "}\n",
    "npv = net_present_value.NPV(**parameters)\n",
    "mortgage = npv.MORTGAGE"
   ]
  },
  {
   "cell_type": "markdown",
   "id": "28ef6d11",
   "metadata": {},
   "source": [
    "## Mortgage Structure"
   ]
  },
  {
   "cell_type": "code",
   "execution_count": 2,
   "id": "73c37eef",
   "metadata": {},
   "outputs": [
    {
     "name": "stdout",
     "output_type": "stream",
     "text": [
      "                     Rate:      0.069000\n",
      "             Month Growth:      1.005750\n",
      "                      APY:      0.071224\n",
      "             Payoff Years:            30\n",
      "            Payoff Months:           360\n",
      "                   Amount:     356000.00\n",
      "          Monthly Payment:       2344.62\n",
      "           Annual Payment:      28135.44\n",
      "             Total Payout:     844063.20\n"
     ]
    }
   ],
   "source": [
    "npv.summarize_mortgage()"
   ]
  },
  {
   "cell_type": "markdown",
   "id": "73943e31",
   "metadata": {},
   "source": [
    "## Cash Flows"
   ]
  },
  {
   "cell_type": "code",
   "execution_count": 3,
   "id": "13f08db7",
   "metadata": {
    "scrolled": true
   },
   "outputs": [
    {
     "data": {
      "text/html": [
       "<style type=\"text/css\">\n",
       "</style>\n",
       "<table id=\"T_1cbb7_\">\n",
       "  <caption>Annual cash flows</caption>\n",
       "  <thead>\n",
       "    <tr>\n",
       "      <th class=\"blank level0\" >&nbsp;</th>\n",
       "      <th class=\"col_heading level0 col0\" >year</th>\n",
       "      <th class=\"col_heading level0 col1\" >cash_flow</th>\n",
       "      <th class=\"col_heading level0 col2\" >discounted_cash_flow</th>\n",
       "    </tr>\n",
       "  </thead>\n",
       "  <tbody>\n",
       "    <tr>\n",
       "      <th id=\"T_1cbb7_level0_row0\" class=\"row_heading level0 row0\" >0</th>\n",
       "      <td id=\"T_1cbb7_row0_col0\" class=\"data row0 col0\" >0</td>\n",
       "      <td id=\"T_1cbb7_row0_col1\" class=\"data row0 col1\" >-89000.000000</td>\n",
       "      <td id=\"T_1cbb7_row0_col2\" class=\"data row0 col2\" >-89000.000000</td>\n",
       "    </tr>\n",
       "    <tr>\n",
       "      <th id=\"T_1cbb7_level0_row1\" class=\"row_heading level0 row1\" >1</th>\n",
       "      <td id=\"T_1cbb7_row1_col0\" class=\"data row1 col0\" >1</td>\n",
       "      <td id=\"T_1cbb7_row1_col1\" class=\"data row1 col1\" >-5143.440000</td>\n",
       "      <td id=\"T_1cbb7_row1_col2\" class=\"data row1 col2\" >-4898.510000</td>\n",
       "    </tr>\n",
       "    <tr>\n",
       "      <th id=\"T_1cbb7_level0_row2\" class=\"row_heading level0 row2\" >2</th>\n",
       "      <td id=\"T_1cbb7_row2_col0\" class=\"data row2 col0\" >2</td>\n",
       "      <td id=\"T_1cbb7_row2_col1\" class=\"data row2 col1\" >-4580.400000</td>\n",
       "      <td id=\"T_1cbb7_row2_col2\" class=\"data row2 col2\" >-4154.560000</td>\n",
       "    </tr>\n",
       "    <tr>\n",
       "      <th id=\"T_1cbb7_level0_row3\" class=\"row_heading level0 row3\" >3</th>\n",
       "      <td id=\"T_1cbb7_row3_col0\" class=\"data row3 col0\" >3</td>\n",
       "      <td id=\"T_1cbb7_row3_col1\" class=\"data row3 col1\" >-4006.100000</td>\n",
       "      <td id=\"T_1cbb7_row3_col2\" class=\"data row3 col2\" >-3460.620000</td>\n",
       "    </tr>\n",
       "    <tr>\n",
       "      <th id=\"T_1cbb7_level0_row4\" class=\"row_heading level0 row4\" >4</th>\n",
       "      <td id=\"T_1cbb7_row4_col0\" class=\"data row4 col0\" >4</td>\n",
       "      <td id=\"T_1cbb7_row4_col1\" class=\"data row4 col1\" >-3420.310000</td>\n",
       "      <td id=\"T_1cbb7_row4_col2\" class=\"data row4 col2\" >-2813.900000</td>\n",
       "    </tr>\n",
       "    <tr>\n",
       "      <th id=\"T_1cbb7_level0_row5\" class=\"row_heading level0 row5\" >5</th>\n",
       "      <td id=\"T_1cbb7_row5_col0\" class=\"data row5 col0\" >5</td>\n",
       "      <td id=\"T_1cbb7_row5_col1\" class=\"data row5 col1\" >-2822.810000</td>\n",
       "      <td id=\"T_1cbb7_row5_col2\" class=\"data row5 col2\" >-2211.750000</td>\n",
       "    </tr>\n",
       "    <tr>\n",
       "      <th id=\"T_1cbb7_level0_row6\" class=\"row_heading level0 row6\" >6</th>\n",
       "      <td id=\"T_1cbb7_row6_col0\" class=\"data row6 col0\" >6</td>\n",
       "      <td id=\"T_1cbb7_row6_col1\" class=\"data row6 col1\" >-2213.360000</td>\n",
       "      <td id=\"T_1cbb7_row6_col2\" class=\"data row6 col2\" >-1651.640000</td>\n",
       "    </tr>\n",
       "    <tr>\n",
       "      <th id=\"T_1cbb7_level0_row7\" class=\"row_heading level0 row7\" >7</th>\n",
       "      <td id=\"T_1cbb7_row7_col0\" class=\"data row7 col0\" >7</td>\n",
       "      <td id=\"T_1cbb7_row7_col1\" class=\"data row7 col1\" >-1591.720000</td>\n",
       "      <td id=\"T_1cbb7_row7_col2\" class=\"data row7 col2\" >-1131.200000</td>\n",
       "    </tr>\n",
       "    <tr>\n",
       "      <th id=\"T_1cbb7_level0_row8\" class=\"row_heading level0 row8\" >8</th>\n",
       "      <td id=\"T_1cbb7_row8_col0\" class=\"data row8 col0\" >8</td>\n",
       "      <td id=\"T_1cbb7_row8_col1\" class=\"data row8 col1\" >-957.640000</td>\n",
       "      <td id=\"T_1cbb7_row8_col2\" class=\"data row8 col2\" >-648.170000</td>\n",
       "    </tr>\n",
       "    <tr>\n",
       "      <th id=\"T_1cbb7_level0_row9\" class=\"row_heading level0 row9\" >9</th>\n",
       "      <td id=\"T_1cbb7_row9_col0\" class=\"data row9 col0\" >9</td>\n",
       "      <td id=\"T_1cbb7_row9_col1\" class=\"data row9 col1\" >-310.890000</td>\n",
       "      <td id=\"T_1cbb7_row9_col2\" class=\"data row9 col2\" >-200.400000</td>\n",
       "    </tr>\n",
       "    <tr>\n",
       "      <th id=\"T_1cbb7_level0_row10\" class=\"row_heading level0 row10\" >10</th>\n",
       "      <td id=\"T_1cbb7_row10_col0\" class=\"data row10 col0\" >10</td>\n",
       "      <td id=\"T_1cbb7_row10_col1\" class=\"data row10 col1\" >257391.170000</td>\n",
       "      <td id=\"T_1cbb7_row10_col2\" class=\"data row10 col2\" >158015.850000</td>\n",
       "    </tr>\n",
       "  </tbody>\n",
       "</table>\n"
      ],
      "text/plain": [
       "<pandas.io.formats.style.Styler at 0x7ff2c0d41d30>"
      ]
     },
     "execution_count": 3,
     "metadata": {},
     "output_type": "execute_result"
    }
   ],
   "source": [
    "npv.annual_cash_flows_df()"
   ]
  },
  {
   "cell_type": "markdown",
   "id": "5d4a6d8d",
   "metadata": {},
   "source": [
    "## Net Present Value"
   ]
  },
  {
   "cell_type": "code",
   "execution_count": 4,
   "id": "2cbc7cf7",
   "metadata": {},
   "outputs": [
    {
     "name": "stdout",
     "output_type": "stream",
     "text": [
      "\u001b[92mThis property beats the benchmark and is worth investing in\u001b[00m\n"
     ]
    },
    {
     "data": {
      "text/html": [
       "<style type=\"text/css\">\n",
       "</style>\n",
       "<table id=\"T_1e61a_\">\n",
       "  <caption>Investment Summary</caption>\n",
       "  <thead>\n",
       "    <tr>\n",
       "      <th class=\"blank level0\" >&nbsp;</th>\n",
       "      <th class=\"col_heading level0 col0\" >index</th>\n",
       "      <th class=\"col_heading level0 col1\" >value</th>\n",
       "    </tr>\n",
       "  </thead>\n",
       "  <tbody>\n",
       "    <tr>\n",
       "      <th id=\"T_1e61a_level0_row0\" class=\"row_heading level0 row0\" >0</th>\n",
       "      <td id=\"T_1e61a_row0_col0\" class=\"data row0 col0\" >Discount Rate (Benchmark)</td>\n",
       "      <td id=\"T_1e61a_row0_col1\" class=\"data row0 col1\" >5.0%</td>\n",
       "    </tr>\n",
       "    <tr>\n",
       "      <th id=\"T_1e61a_level0_row1\" class=\"row_heading level0 row1\" >1</th>\n",
       "      <td id=\"T_1e61a_row1_col0\" class=\"data row1 col0\" >Internal Rate of Return (IRR)</td>\n",
       "      <td id=\"T_1e61a_row1_col1\" class=\"data row1 col1\" >9.2%</td>\n",
       "    </tr>\n",
       "    <tr>\n",
       "      <th id=\"T_1e61a_level0_row2\" class=\"row_heading level0 row2\" >2</th>\n",
       "      <td id=\"T_1e61a_row2_col0\" class=\"data row2 col0\" >Net Present Value (NPV)</td>\n",
       "      <td id=\"T_1e61a_row2_col1\" class=\"data row2 col1\" >$47845.1</td>\n",
       "    </tr>\n",
       "  </tbody>\n",
       "</table>\n"
      ],
      "text/plain": [
       "<pandas.io.formats.style.Styler at 0x7ff2a1bc4f70>"
      ]
     },
     "execution_count": 4,
     "metadata": {},
     "output_type": "execute_result"
    }
   ],
   "source": [
    "npv.summarize_df()"
   ]
  },
  {
   "cell_type": "markdown",
   "id": "0784068b",
   "metadata": {},
   "source": [
    "## Interest Rates vs Internal Rate of Return"
   ]
  },
  {
   "cell_type": "code",
   "execution_count": 5,
   "id": "efcaffb0",
   "metadata": {},
   "outputs": [
    {
     "data": {
      "text/plain": [
       "<AxesSubplot:title={'center':'Interest Rate vs Net Present Value'}, xlabel='interest_rate'>"
      ]
     },
     "execution_count": 5,
     "metadata": {},
     "output_type": "execute_result"
    },
    {
     "data": {
      "image/png": "[encoded data removed]",
      "text/plain": [
       "<Figure size 432x288 with 1 Axes>"
      ]
     },
     "metadata": {
      "needs_background": "light"
     },
     "output_type": "display_data"
    }
   ],
   "source": [
    "import pandas as pd\n",
    "import numpy as np\n",
    "\n",
    "factor = []\n",
    "y = []\n",
    "\n",
    "for fac in np.linspace(.03, .1, 50): \n",
    "    parameters = {\n",
    "        'home_price': 445000, \n",
    "        'percent_down': 0.2, \n",
    "        'mortgage_interest': fac, \n",
    "        'mortgage_length': 30, \n",
    "        'other_monthly_cost': 330,\n",
    "        'monthly_rental_income': 2300, \n",
    "        'annual_rental_income_appreciation': 0.02, \n",
    "        'annual_home_appreciation': .03, \n",
    "        'investment_duration': 10, \n",
    "        'discount_rate': .05,\n",
    "        'selling_fee': .06\n",
    "    }\n",
    "    npv = net_present_value.NPV(**parameters)\n",
    "    y.append(npv.NPV())\n",
    "    factor.append(fac)\n",
    "    \n",
    "data = {'interest_rate': factor, 'npv': y}\n",
    "df = pd.DataFrame(data=data)\n",
    "df.plot(x='interest_rate', y='npv', title='Interest Rate vs Net Present Value')"
   ]
  },
  {
   "cell_type": "code",
   "execution_count": 6,
   "id": "83625520",
   "metadata": {},
   "outputs": [
    {
     "data": {
      "text/plain": [
       "<AxesSubplot:title={'center':'Annual Home Appreciation vs Net Present Value'}, xlabel='annual_home_appreciation'>"
      ]
     },
     "execution_count": 6,
     "metadata": {},
     "output_type": "execute_result"
    },
    {
     "data": {
      "image/png": "[encoded data removed]",
      "text/plain": [
       "<Figure size 432x288 with 1 Axes>"
      ]
     },
     "metadata": {
      "needs_background": "light"
     },
     "output_type": "display_data"
    }
   ],
   "source": [
    "factor = []\n",
    "y = []\n",
    "\n",
    "for fac in np.linspace(-.01, .1, 50): \n",
    "    parameters = {\n",
    "        'home_price': 445000, \n",
    "        'percent_down': 0.2, \n",
    "        'mortgage_interest': 0.069, \n",
    "        'mortgage_length': 30, \n",
    "        'other_monthly_cost': 330,\n",
    "        'monthly_rental_income': 2300, \n",
    "        'annual_rental_income_appreciation': 0.02, \n",
    "        'annual_home_appreciation': fac, \n",
    "        'investment_duration': 10, \n",
    "        'discount_rate': .05,\n",
    "        'selling_fee': .06\n",
    "    }\n",
    "    npv = net_present_value.NPV(**parameters)\n",
    "    y.append(npv.NPV())\n",
    "    factor.append(fac)\n",
    "    \n",
    "data = {'annual_home_appreciation': factor, 'npv': y}\n",
    "df = pd.DataFrame(data=data)\n",
    "df.plot(x='annual_home_appreciation', y='npv', title='Annual Home Appreciation vs Net Present Value')"
   ]
  },
  {
   "cell_type": "markdown",
   "id": "60321e5f",
   "metadata": {},
   "source": [
    "# Summary \n",
    "\n",
    "With our assumptions and using the benchmark of 5% as the discount rate, this investment property seems worthwhile. We have a positive NPV ($56374.49) and a rate of return of 9.2%. \n",
    "\n",
    "We've estimated the total monthly payment, with mortgage included, to be 2730 per month. With rent at \\$2300 per month growing at 2\\% YoY, we won't getting positive cash flow until after 9 years. \n",
    "\n",
    "Looking at these two graphs, interest rates have to be below 9\\% and the annual appreciation must be above 1\\% for this investment to be worth it.  "
   ]
  },
  {
   "cell_type": "code",
   "execution_count": null,
   "id": "0f787391",
   "metadata": {},
   "outputs": [],
   "source": []
  }
 ],
 "metadata": {
  "kernelspec": {
   "display_name": "Python 3 (ipykernel)",
   "language": "python",
   "name": "python3"
  },
  "language_info": {
   "codemirror_mode": {
    "name": "ipython",
    "version": 3
   },
   "file_extension": ".py",
   "mimetype": "text/x-python",
   "name": "python",
   "nbconvert_exporter": "python",
   "pygments_lexer": "ipython3",
   "version": "3.9.7"
  }
 },
 "nbformat": 4,
 "nbformat_minor": 5
}
